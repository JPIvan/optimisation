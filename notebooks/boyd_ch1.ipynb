{
 "cells": [
  {
   "cell_type": "markdown",
   "metadata": {},
   "source": [
    "# Boyd and Vandenberghe - Convex Optimisation\n",
    "## Chapter 1 - Introduction\n",
    "\n",
    "In this notebook I discuss using numpy's least-squares solver `linalg.lstsq()`. As mentioned [here](https://jpivan.github.io/boyd-convex-optimisation/ch1/) the idea is not to conver the implementation of a least-squares solver, but rather to show how to contruct functions and objects from mathematical content.\n",
    "\n",
    "As of this moment this function has only been tested a little, I will be covering writing tests later. If any problems are revealed in testing they will be noted here and this notebook updated."
   ]
  },
  {
   "cell_type": "code",
   "execution_count": 1,
   "metadata": {},
   "outputs": [],
   "source": [
    "%%capture\n",
    "# just some setup, don't worry too much\n",
    "from os import getcwd\n",
    "while getcwd().split('\\\\')[-1] != 'optimisation':\n",
    "    %cd ..\n",
    "\n",
    "%load_ext autoreload\n",
    "%autoreload 2\n",
    "\n",
    "# Will need numpy\n",
    "import numpy as np\n",
    "\n",
    "import plotting.contour  # wrapper for matplotlib's plotting funcitons"
   ]
  },
  {
   "cell_type": "markdown",
   "metadata": {},
   "source": [
    "See the cell below for the source."
   ]
  },
  {
   "cell_type": "code",
   "execution_count": 2,
   "metadata": {},
   "outputs": [],
   "source": [
    "# %load -s least_squares src/least_squares.py\n",
    "class least_squares:\n",
    "    def __init__(self, A, b):\n",
    "        \n",
    "        \"\"\" Create a least squares function using the given parameters.\n",
    "        Instances of this class can be called with x as an argument to return\n",
    "        || A*x - b ||_2^2.\n",
    "\n",
    "        Args:\n",
    "            A: 2-d numpy matrix\n",
    "            b: 2-d numpy matrix (column vector)\n",
    "        Returns:\n",
    "            None\n",
    "        \"\"\"\n",
    "        self.A = A\n",
    "        self.b = b\n",
    "    \n",
    "        return\n",
    "    \n",
    "    def __call__(self, x):\n",
    "        \"\"\" Given x, returns the squared norm of Ax - b.\n",
    "\n",
    "        Args:\n",
    "            x: 2-d numpy matrix (column vector)\n",
    "        Returns:\n",
    "            || A*x - b ||_2^2\n",
    "        \"\"\"\n",
    "        _x = x\n",
    "        if not isinstance(_x, np.ndarray): # if not numpy array try to make one\n",
    "            _x = np.array(_x).reshape(-1, 1)\n",
    "        elif _x.ndim != 2 or x.shape[1] != 1:  # if not column vector fix\n",
    "            _x = _x.reshape(-1, 1)\n",
    "        \n",
    "        if _x.shape[0] != self.A.shape[1]:  # column vector of wrong size\n",
    "            raise ValueError(\n",
    "                    f\"Shape mismatch, A: {self.A.shape}, x: {_x.shape}.\"\n",
    "                )\n",
    "        return np.linalg.norm(self.A @ _x - self.b)**2\n",
    "\n",
    "    def solve_minimum(self):\n",
    "        \"\"\" Finds the x* which minimises the least-squares problem instance.\n",
    "        This uses np.linalg.lstsq.\n",
    "\n",
    "        Args:\n",
    "            None\n",
    "        Returns:\n",
    "            {\n",
    "                \"x*\": minimiser\n",
    "                \"r\": residuals, if appropriate\n",
    "                \"rk\": rank of A\n",
    "                \"s\": singular values of A\n",
    "            }\n",
    "        \"\"\"\n",
    "        _soln = np.linalg.lstsq(self.A, self.b, rcond=None)\n",
    "        return {\n",
    "            \"x*\": _soln[0],  # minimiser\n",
    "            \"r\": _soln[1],  # residuals, if appropriate\n",
    "            \"rk\": _soln[2],  # rank of A\n",
    "            \"s\": _soln[3]  # singular values of A\n",
    "        }\n"
   ]
  },
  {
   "cell_type": "markdown",
   "metadata": {},
   "source": [
    "Here's the problem we're trying to solve:\n",
    "\n",
    "`numpy.linalg.lstsq()` can find the least-squares solution for $Ax = b$, that is, `numpy.linalg.lstsq()` minimises $\\Vert Ax - b \\Vert_2$ (and thus, obviously $\\Vert Ax - b \\Vert_2^2$ as well). However, if we want to plot $\\Vert Ax - b \\Vert_2^2$ we need a separate function to actually calculate the value of this expression. We have the function `plotting.contour.contourf` which is a wrapper of a contour plotting function from matplotlib. Here is the docstring for `plotting.contour.contourf`:"
   ]
  },
  {
   "cell_type": "code",
   "execution_count": 3,
   "metadata": {},
   "outputs": [
    {
     "name": "stdout",
     "output_type": "stream",
     "text": [
      " Calls the matplotlib contourf function with most of the implementation\n",
      "    hidden from the caller.\n",
      "\n",
      "    Args:\n",
      "        xlim: bounds on x-axis\n",
      "        ylim: bounds on y-axis\n",
      "        func: function to plot, must be a callable compatible with f([x, y])\n",
      "        gridpoints: number of points to evaluate each variable\n",
      "        ncontours: number of contour lines to draw\n",
      "    Returns:\n",
      "        fig, ax: The created figure and axes instances.\n",
      "    \n"
     ]
    }
   ],
   "source": [
    "# plotting.contour.contourf?  # can ask for the docstring like this, but I want to print it in the output of this cell so...\n",
    "print(plotting.contour.contourf.__doc__)"
   ]
  },
  {
   "cell_type": "markdown",
   "metadata": {},
   "source": [
    "So we need a function that, given $x \\in \\mathbb{R}^2$, will return $\\Vert Ax - b \\Vert_2^2$. Let's see if we can't reason out some sort of logical structure for the problem.\n",
    "\n",
    "It would be nice if we had an abstract representation of a problem instance, and could query this abstraction in two distinct ways:\n",
    "1. For this particular problem instance and a given $x$, what is the value of $\\Vert Ax - b \\Vert_2^2$?\n",
    "2. For this particular problem instance, what $x$ minimises $\\Vert Ax - b \\Vert_2^2$?\n",
    "\n",
    "Diving into the `least_squares` class this is what we have created! An object of this type can be used as follows:\n",
    "1. Create a representation of a problem instance given $A$ and $b$.\n",
    "2. Treat the object as a function, whereupon it will return the value of $\\Vert Ax - b \\Vert_2^2$.\n",
    "3. Request a minimising $x^*$ for the given problem instance.\n",
    "\n",
    "As an example, let's define an $A \\in \\mathbb{R}^{k\\times n}$, and $b \\in \\mathbb{R}^k$. I want to be able to plot this on a contour plot so I will choose $n=2$."
   ]
  },
  {
   "cell_type": "code",
   "execution_count": 4,
   "metadata": {},
   "outputs": [],
   "source": [
    "k, n = 10, 2\n",
    "A = np.random.normal(0, 1, k*n).reshape(-1, n)\n",
    "b = np.random.normal(0, 2, k).reshape(-1, 1)"
   ]
  },
  {
   "cell_type": "markdown",
   "metadata": {},
   "source": [
    "Now, create a problem instance."
   ]
  },
  {
   "cell_type": "code",
   "execution_count": 5,
   "metadata": {},
   "outputs": [],
   "source": [
    "f0 = least_squares(A, b)"
   ]
  },
  {
   "cell_type": "markdown",
   "metadata": {},
   "source": [
    "`f0` contains some member variables defined in `_init__`:"
   ]
  },
  {
   "cell_type": "code",
   "execution_count": 6,
   "metadata": {},
   "outputs": [
    {
     "name": "stdout",
     "output_type": "stream",
     "text": [
      "[[-0.20022639 -0.73978225]\n",
      " [-0.80859598  0.1479458 ]\n",
      " [-1.27853252 -1.08122372]\n",
      " [ 0.68894041 -0.47896237]\n",
      " [ 0.88934951  0.60000046]\n",
      " [ 0.41033823 -0.69854537]\n",
      " [ 0.05993297 -0.63692942]\n",
      " [-0.34469508  1.60134347]\n",
      " [-1.60949426  0.09544918]\n",
      " [-0.33616626 -1.03269711]]\n",
      "[[ 0.67165295]\n",
      " [-1.37919533]\n",
      " [ 1.2461233 ]\n",
      " [ 0.28585974]\n",
      " [-1.75711776]\n",
      " [ 1.33894142]\n",
      " [-0.06994773]\n",
      " [-3.77896837]\n",
      " [ 0.19860675]\n",
      " [-1.85463873]]\n"
     ]
    }
   ],
   "source": [
    "print(f0.A)\n",
    "print(f0.b)"
   ]
  },
  {
   "cell_type": "markdown",
   "metadata": {},
   "source": [
    "We can evaluate `f0` at a given $x \\in \\mathbb{R}^2$:"
   ]
  },
  {
   "cell_type": "code",
   "execution_count": 7,
   "metadata": {},
   "outputs": [
    {
     "data": {
      "text/plain": [
       "73.3108278191174"
      ]
     },
     "execution_count": 7,
     "metadata": {},
     "output_type": "execute_result"
    }
   ],
   "source": [
    "f0([-2,1])"
   ]
  },
  {
   "cell_type": "markdown",
   "metadata": {},
   "source": [
    "And we can request a minimising $x^*$:"
   ]
  },
  {
   "cell_type": "code",
   "execution_count": 8,
   "metadata": {
    "scrolled": true
   },
   "outputs": [
    {
     "name": "stdout",
     "output_type": "stream",
     "text": [
      "Minimising x: \n",
      "[[ 0.20006263]\n",
      " [-1.22919985]]\n",
      "Minimal value of f0: 16.460297157253283\n"
     ]
    }
   ],
   "source": [
    "x_opt = f0.solve_minimum()['x*']\n",
    "print(f\"Minimising x: \\n{x_opt}\")\n",
    "print(f\"Minimal value of f0: {f0(x_opt)}\")"
   ]
  },
  {
   "cell_type": "markdown",
   "metadata": {},
   "source": [
    "We can plot the values of $\\Vert Ax - b \\Vert_2^2$ now, since `f0` behaves like a function of two variables:"
   ]
  },
  {
   "cell_type": "code",
   "execution_count": 9,
   "metadata": {},
   "outputs": [
    {
     "data": {
      "image/png": "[encoded data removed]",
      "text/plain": [
       "<Figure size 432x288 with 1 Axes>"
      ]
     },
     "metadata": {
      "needs_background": "light"
     },
     "output_type": "display_data"
    }
   ],
   "source": [
    "fig, ax = plotting.contour.contourf(\n",
    "    xlim=(x_opt[0]-0.5, x_opt[0]+0.5),\n",
    "    ylim=(x_opt[1]-0.5, x_opt[1]+0.5),\n",
    "    func=f0,\n",
    "    gridpoints=51,\n",
    "    ncontours=20,\n",
    ")\n",
    "_ = ax.scatter(x_opt[0], x_opt[1], c='red')"
   ]
  },
  {
   "cell_type": "markdown",
   "metadata": {},
   "source": [
    "Let's load the class again now and see how this behaviour is defined:\n",
    "\n",
    "In `__init__` we store simply stor the values of $A$ and $b$ for later use.\n",
    "\n",
    "In `__call__` we define the behaviour of a least_squares object when it is *called* like a function. Above we saw the `least_squares` object `f0` could be treated as a function and called as in `f0(x)`.\n",
    "\n",
    "This function does a little bit of work in order to be a little tolerant of imperfect arguments. In $\\Vert Ax - b \\Vert_2^2$ we require $A$ and $x$ to have compatible dimensions. The function makes a local copy of the argument, `_x`, and starts to check the input. If the input is not a numpy array the function tries to make a column vector using the input, and if the input is a numpy array the function ensures it is represented as a column vector. This makes calls like `f0([-2,1])`, which we saw earlier, possible.\n",
    "\n",
    "Finally, if the input is of the wrong size, the function will raise an error. This is shown a little further down in the notebook.\n",
    "\n",
    "The `solve_minimum` function does nothing except call the `numpy.linalg.lstsq` function to solve the problem instance. The solution is returned in a dictionary for a little extra clarity.\n",
    "\n",
    "I hope this example of turning these requirements...\n",
    "> It would be nice if we had an abstract representation of a problem instance, and could query this abstraction in two distinct ways:\n",
    "> 1. For this particular problem instance and a given $x$, what is the value of $\\Vert Ax - b \\Vert_2^2$?\n",
    "> 2. For this particular problem instance, what $x$ minimises $\\Vert Ax - b \\Vert_2^2$?\n",
    "\n",
    "... into the implementation shown here proves helpful. That's all for this example!"
   ]
  },
  {
   "cell_type": "code",
   "execution_count": 10,
   "metadata": {},
   "outputs": [],
   "source": [
    "# %load -s least_squares src/least_squares.py\n",
    "class least_squares:\n",
    "    def __init__(self, A, b):\n",
    "        \n",
    "        \"\"\" Create a least squares function using the given parameters.\n",
    "        Instances of this class can be called with x as an argument to return\n",
    "        || A*x - b ||_2^2.\n",
    "\n",
    "        Args:\n",
    "            A: 2-d numpy matrix\n",
    "            b: 2-d numpy matrix (column vector)\n",
    "        Returns:\n",
    "            None\n",
    "        \"\"\"\n",
    "        self.A = A\n",
    "        self.b = b\n",
    "    \n",
    "        return\n",
    "    \n",
    "    def __call__(self, x):\n",
    "        \"\"\" Given x, returns the squared norm of Ax - b.\n",
    "\n",
    "        Args:\n",
    "            x: 2-d numpy matrix (column vector)\n",
    "        Returns:\n",
    "            || A*x - b ||_2^2\n",
    "        \"\"\"\n",
    "        _x = x\n",
    "        if not isinstance(_x, np.ndarray): # if not numpy array try to make one\n",
    "            _x = np.array(_x).reshape(-1, 1)\n",
    "        elif _x.ndim != 2 or x.shape[1] != 1:  # if not column vector fix\n",
    "            _x = _x.reshape(-1, 1)\n",
    "        \n",
    "        print(_x.shape[0], self.A.shape[1])\n",
    "        if _x.shape[0] != self.A.shape[1]:  # column vector of wrong size\n",
    "            raise ValueError(\n",
    "                    f\"Shape mismatch, A: {self.A.shape}, x: {_x.shape}.\"\n",
    "                )\n",
    "        return np.linalg.norm(self.A @ _x - self.b)**2\n",
    "\n",
    "    def solve_minimum(self):\n",
    "        \"\"\" Finds the x* which minimises the least-squares problem instance.\n",
    "        This uses np.linalg.lstsq.\n",
    "\n",
    "        Args:\n",
    "            None\n",
    "        Returns:\n",
    "            {\n",
    "                \"x*\": minimiser\n",
    "                \"r\": residuals, if appropriate\n",
    "                \"rk\": rank of A\n",
    "                \"s\": singular values of A\n",
    "            }\n",
    "        \"\"\"\n",
    "        _soln = np.linalg.lstsq(self.A, self.b, rcond=None)\n",
    "        return {\n",
    "            \"x*\": _soln[0],  # minimiser\n",
    "            \"r\": _soln[1],  # residuals, if appropriate\n",
    "            \"rk\": _soln[2],  # rank of A\n",
    "            \"s\": _soln[3]  # singular values of A\n",
    "        }\n"
   ]
  },
  {
   "cell_type": "code",
   "execution_count": 11,
   "metadata": {},
   "outputs": [
    {
     "ename": "ValueError",
     "evalue": "Shape mismatch, A: (10, 2), x: (3, 1).",
     "output_type": "error",
     "traceback": [
      "\u001b[1;31m---------------------------------------------------------------------------\u001b[0m",
      "\u001b[1;31mValueError\u001b[0m                                Traceback (most recent call last)",
      "\u001b[1;32m<ipython-input-11-d455cbb58f8d>\u001b[0m in \u001b[0;36m<module>\u001b[1;34m\u001b[0m\n\u001b[1;32m----> 1\u001b[1;33m \u001b[0mf0\u001b[0m\u001b[1;33m(\u001b[0m\u001b[1;33m[\u001b[0m\u001b[1;36m1\u001b[0m\u001b[1;33m,\u001b[0m\u001b[1;36m2\u001b[0m\u001b[1;33m,\u001b[0m\u001b[1;36m3\u001b[0m\u001b[1;33m]\u001b[0m\u001b[1;33m)\u001b[0m  \u001b[1;31m# this call will error since x is of the wrong size.\u001b[0m\u001b[1;33m\u001b[0m\u001b[1;33m\u001b[0m\u001b[0m\n\u001b[0m",
      "\u001b[1;32m<ipython-input-2-898a7211cd72>\u001b[0m in \u001b[0;36m__call__\u001b[1;34m(self, x)\u001b[0m\n\u001b[0;32m     33\u001b[0m \u001b[1;33m\u001b[0m\u001b[0m\n\u001b[0;32m     34\u001b[0m         \u001b[1;32mif\u001b[0m \u001b[0m_x\u001b[0m\u001b[1;33m.\u001b[0m\u001b[0mshape\u001b[0m\u001b[1;33m[\u001b[0m\u001b[1;36m0\u001b[0m\u001b[1;33m]\u001b[0m \u001b[1;33m!=\u001b[0m \u001b[0mself\u001b[0m\u001b[1;33m.\u001b[0m\u001b[0mA\u001b[0m\u001b[1;33m.\u001b[0m\u001b[0mshape\u001b[0m\u001b[1;33m[\u001b[0m\u001b[1;36m1\u001b[0m\u001b[1;33m]\u001b[0m\u001b[1;33m:\u001b[0m  \u001b[1;31m# column vector of wrong size\u001b[0m\u001b[1;33m\u001b[0m\u001b[1;33m\u001b[0m\u001b[0m\n\u001b[1;32m---> 35\u001b[1;33m             raise ValueError(\n\u001b[0m\u001b[0;32m     36\u001b[0m                     \u001b[1;34mf\"Shape mismatch, A: {self.A.shape}, x: {_x.shape}.\"\u001b[0m\u001b[1;33m\u001b[0m\u001b[1;33m\u001b[0m\u001b[0m\n\u001b[0;32m     37\u001b[0m                 )\n",
      "\u001b[1;31mValueError\u001b[0m: Shape mismatch, A: (10, 2), x: (3, 1)."
     ]
    }
   ],
   "source": [
    "f0([1,2,3])  # this call will error since x is of the wrong size."
   ]
  }
 ],
 "metadata": {
  "kernelspec": {
   "display_name": "Python 3",
   "language": "python",
   "name": "python3"
  },
  "language_info": {
   "codemirror_mode": {
    "name": "ipython",
    "version": 3
   },
   "file_extension": ".py",
   "mimetype": "text/x-python",
   "name": "python",
   "nbconvert_exporter": "python",
   "pygments_lexer": "ipython3",
   "version": "3.8.6"
  }
 },
 "nbformat": 4,
 "nbformat_minor": 2
}
