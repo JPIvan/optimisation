{
 "cells": [
  {
   "cell_type": "markdown",
   "id": "natural-reading",
   "metadata": {},
   "source": [
    "# Examples From 9.3.2\n",
    "\n",
    "This notebook shows how we can use steepest descent methods with golden section search and discusses the concerns we might have with our methods so far.\n",
    "\n",
    "The first cell just gets everything set up for our examples."
   ]
  },
  {
   "cell_type": "code",
   "execution_count": 1,
   "id": "industrial-swift",
   "metadata": {},
   "outputs": [],
   "source": [
    "%%capture\n",
    "from os import getcwd\n",
    "while getcwd().split('\\\\')[-1] != 'optimisation':\n",
    "    %cd ..\n",
    "    pass\n",
    "\n",
    "\n",
    "import numpy as np\n",
    "from matplotlib import pyplot as plt\n",
    "\n",
    "from src.gradient_descent import steepest_descent\n",
    "from examples.examples_9_3_2 import obj_quadratic_r2, obj_quadratic_r2_jac, obj_nonquadratic_r2\n",
    "from plotting.contour import contourf"
   ]
  },
  {
   "cell_type": "markdown",
   "id": "alternate-triumph",
   "metadata": {},
   "source": [
    "## A Quadratic Problem in $\\mathbb{R}^2$\n",
    "\n",
    "Begining with a simple problem, we have $f(x) = \\frac{1}{2}(x_1^2 + \\gamma x_2^2)$. The condition number for the sublevel sets of this function is $\\max(\\gamma, \\gamma^{-1})$, and we'll see that for good condition numbers our method works well from some points of view. The default value of $\\gamma$ for this function is $2$. We can plot the sublevel sets to get an idea of what the surface looks like."
   ]
  },
  {
   "cell_type": "code",
   "execution_count": 2,
   "id": "stopped-night",
   "metadata": {},
   "outputs": [
    {
     "data": {
      "text/plain": [
       "(<Figure size 432x288 with 1 Axes>, <AxesSubplot:>)"
      ]
     },
     "execution_count": 2,
     "metadata": {},
     "output_type": "execute_result"
    },
    {
     "data": {
      "image/png": "[encoded data removed]",
      "text/plain": [
       "<Figure size 432x288 with 1 Axes>"
      ]
     },
     "metadata": {
      "needs_background": "light"
     },
     "output_type": "display_data"
    }
   ],
   "source": [
    "contourf(\n",
    "    xlim=[-3, 3],\n",
    "    ylim=[-3, 3],\n",
    "    func = obj_quadratic_r2,\n",
    ")"
   ]
  },
  {
   "cell_type": "markdown",
   "id": "utility-beads",
   "metadata": {},
   "source": [
    "Let's run the steepest descent algorithm using golden section search. We will save the intermediate results using the `save_path` keyword so we can plot them."
   ]
  },
  {
   "cell_type": "code",
   "execution_count": 3,
   "id": "brazilian-maker",
   "metadata": {},
   "outputs": [
    {
     "data": {
      "text/plain": [
       "success: True\n",
       "x*: \n",
       "[[ 4.68952236e-07]\n",
       " [-3.37160307e-07]]\n",
       "jac(x*): \n",
       "[[ 4.68952236e-07]\n",
       " [-6.74320615e-07]]\n",
       "niter: 10\n",
       "nfev: 338\n",
       "njev: 13\n",
       "nhev: 0\n",
       "info: None\n",
       "soution path: available"
      ]
     },
     "execution_count": 3,
     "metadata": {},
     "output_type": "execute_result"
    }
   ],
   "source": [
    "initial_value = np.array([2, 2.5]).reshape(2, 1)\n",
    "result = steepest_descent(\n",
    "    func=obj_quadratic_r2,\n",
    "    x0=initial_value,\n",
    "    ls=\"golden-section\",\n",
    "    save_path=True,\n",
    ")\n",
    "result  # show our result"
   ]
  },
  {
   "cell_type": "markdown",
   "id": "continent-encyclopedia",
   "metadata": {},
   "source": [
    "We see that the algorithm reports success, within quite a low number of iterations. Since golden section search finds the minimum along each search direction it doesn't take many iterations to hone in on the global minimum. There is a penalty for this: the number of function evaluations is very high. Some of these come from the fact that we are evaluating the jacobian numericaly - so we should be able to reduce the number of function evaluations if we provide an explicit jacobian..."
   ]
  },
  {
   "cell_type": "code",
   "execution_count": 4,
   "id": "golden-music",
   "metadata": {},
   "outputs": [
    {
     "data": {
      "text/plain": [
       "success: True\n",
       "x*: \n",
       "[[ 4.68952235e-07]\n",
       " [-3.37160308e-07]]\n",
       "jac(x*): \n",
       "[[ 4.68952235e-07]\n",
       " [-6.74320616e-07]]\n",
       "niter: 10\n",
       "nfev: 286\n",
       "njev: 13\n",
       "nhev: 0\n",
       "info: None\n",
       "soution path: available"
      ]
     },
     "execution_count": 4,
     "metadata": {},
     "output_type": "execute_result"
    }
   ],
   "source": [
    "initial_value = np.array([2, 2.5]).reshape(2, 1)\n",
    "result = steepest_descent(\n",
    "    func=obj_quadratic_r2,\n",
    "    jac=obj_quadratic_r2_jac,\n",
    "    x0=initial_value,\n",
    "    ls=\"golden-section\",\n",
    "    save_path=True,\n",
    ")\n",
    "result"
   ]
  },
  {
   "cell_type": "markdown",
   "id": "little-device",
   "metadata": {},
   "source": [
    "So, that does help a little, but not by much. Clearly the exact line search provided by golden section search comes at the expense of requiring many function evaluations. For completeness, let's plot our result:"
   ]
  },
  {
   "cell_type": "code",
   "execution_count": 5,
   "id": "guilty-henry",
   "metadata": {},
   "outputs": [
    {
     "data": {
      "text/plain": [
       "<matplotlib.collections.PathCollection at 0x2188d2e1e50>"
      ]
     },
     "execution_count": 5,
     "metadata": {},
     "output_type": "execute_result"
    },
    {
     "data": {
      "image/png": "[encoded data removed]",
      "text/plain": [
       "<Figure size 432x288 with 1 Axes>"
      ]
     },
     "metadata": {
      "needs_background": "light"
     },
     "output_type": "display_data"
    }
   ],
   "source": [
    "contourf(\n",
    "    xlim=[-3, 3],\n",
    "    ylim=[-3, 3],\n",
    "    func = obj_quadratic_r2,\n",
    ")\n",
    "solution_path = np.hstack(result.solution_path)\n",
    "solution_path = np.hstack([np.hstack(result.solution_path), result.x])\n",
    "\n",
    "plt.plot(solution_path[0, :], solution_path[1, :], c='red')\n",
    "\n",
    "plt.scatter(solution_path[0, 0], solution_path[1, 0], c='blue')  # start point\n",
    "plt.scatter(solution_path[0, -1], solution_path[1, -1], c='blue')  # end point\n"
   ]
  },
  {
   "cell_type": "markdown",
   "id": "structural-aaron",
   "metadata": {},
   "source": [
    "What happens if our sublevel sets are poorly conditioned?"
   ]
  },
  {
   "cell_type": "code",
   "execution_count": 6,
   "id": "arctic-flood",
   "metadata": {},
   "outputs": [
    {
     "name": "stderr",
     "output_type": "stream",
     "text": [
      "C:\\Users\\jeanp\\Documents\\Projects\\Notebooks\\optimisation\\src\\line_search.py:78: RuntimeWarning: invalid value encountered in true_divide\n",
      "  't': np.average((xopt - x) / dx),  # x* = x + t*dx\n"
     ]
    },
    {
     "data": {
      "text/plain": [
       "success: False\n",
       "x*: \n",
       "[[-4.48675867e-18]\n",
       " [ 6.28799626e-08]]\n",
       "jac(x*): \n",
       "[[0.00000000e+00]\n",
       " [1.88639888e-06]]\n",
       "niter: 1024\n",
       "nfev: 17462\n",
       "njev: 1026\n",
       "nhev: 0\n",
       "info: Maximum number of iterations exceeded.\n",
       "soution path: available"
      ]
     },
     "execution_count": 6,
     "metadata": {},
     "output_type": "execute_result"
    }
   ],
   "source": [
    "def obj_quadratic_r2_gamma100(x):  # this wrapper will call obj_quadratic_r2 with a new value of gamma\n",
    "    return obj_quadratic_r2(x, gamma=30)\n",
    "\n",
    "initial_value = np.array([2, 2.5]).reshape(2, 1)\n",
    "result = steepest_descent(\n",
    "    func=obj_quadratic_r2_gamma100,\n",
    "    x0=initial_value,\n",
    "    ls=\"golden-section\",\n",
    "    save_path=True,\n",
    ")\n",
    "result  # show our result"
   ]
  },
  {
   "cell_type": "markdown",
   "id": "executive-status",
   "metadata": {},
   "source": [
    "Not only have our function evaluations gone through the roof; the function reports that it has failed to converge! In reality we actually have a result very close to the true minimum at $(0, 0)$, but the criterior being used to terminate is checking if $\\Vert J(x) \\Vert_2 < 10^{-6}$ and the ill-conditioning of the sublevel sets means that this check is failing."
   ]
  },
  {
   "cell_type": "code",
   "execution_count": 7,
   "id": "neutral-investigator",
   "metadata": {},
   "outputs": [
    {
     "data": {
      "text/plain": [
       "<matplotlib.collections.PathCollection at 0x2188d395f40>"
      ]
     },
     "execution_count": 7,
     "metadata": {},
     "output_type": "execute_result"
    },
    {
     "data": {
      "image/png": "[encoded data removed]",
      "text/plain": [
       "<Figure size 432x288 with 1 Axes>"
      ]
     },
     "metadata": {
      "needs_background": "light"
     },
     "output_type": "display_data"
    }
   ],
   "source": [
    "contourf(\n",
    "    xlim=[-3, 3],\n",
    "    ylim=[-3, 3],\n",
    "    func = obj_quadratic_r2_gamma100,\n",
    ")\n",
    "solution_path = np.hstack(result.solution_path)\n",
    "solution_path = np.hstack([np.hstack(result.solution_path), result.x])\n",
    "\n",
    "plt.plot(solution_path[0, :], solution_path[1, :], c='red')\n",
    "\n",
    "plt.scatter(solution_path[0, 0], solution_path[1, 0], c='blue')  # start point\n",
    "plt.scatter(solution_path[0, -1], solution_path[1, -1], c='blue')  # end point"
   ]
  },
  {
   "cell_type": "markdown",
   "id": "touched-desktop",
   "metadata": {},
   "source": [
    "However, in reality the solver seems to hone in on the solution very quickly. Perhaps with a more intelligent convergence criterion we could salvage the situation?"
   ]
  },
  {
   "cell_type": "markdown",
   "id": "painful-radius",
   "metadata": {},
   "source": [
    "## A Non-Quadratic Problem in $\\mathbb{R}^2$\n",
    "\n",
    "Let's turn to the next example: $f(x_1, x_2) = e^{x_1+3x_2-0.1} + e^{x_1-3x_2-0.1} + e^{-x_1-0.1}$. How does our method perform here?"
   ]
  },
  {
   "cell_type": "code",
   "execution_count": 8,
   "id": "coordinate-somewhere",
   "metadata": {},
   "outputs": [
    {
     "data": {
      "text/plain": [
       "success: True\n",
       "x*: \n",
       "[[-3.46573603e-01]\n",
       " [-8.33193607e-08]]\n",
       "jac(x*): \n",
       "[[-3.26749491e-08]\n",
       " [-9.59105860e-07]]\n",
       "niter: 21\n",
       "nfev: 660\n",
       "njev: 24\n",
       "nhev: 0\n",
       "info: None\n",
       "soution path: available"
      ]
     },
     "execution_count": 8,
     "metadata": {},
     "output_type": "execute_result"
    },
    {
     "data": {
      "image/png": "[encoded data removed]",
      "text/plain": [
       "<Figure size 432x288 with 1 Axes>"
      ]
     },
     "metadata": {
      "needs_background": "light"
     },
     "output_type": "display_data"
    }
   ],
   "source": [
    "result = steepest_descent(\n",
    "    func=obj_nonquadratic_r2,\n",
    "    x0=np.array([1.5, 0.6]).reshape(2, 1),\n",
    "    save_path=True,\n",
    ")\n",
    "\n",
    "contourf(\n",
    "    xlim=[-4, 3],\n",
    "    ylim=[-2, 2],\n",
    "    func = obj_nonquadratic_r2,\n",
    "    contours=range(2, 30, 2),  # matplotlib striggles to autoscale the contours, so we give them explicitly\n",
    ")\n",
    "solution_path = np.hstack(result.solution_path)\n",
    "solution_path = np.hstack([np.hstack(result.solution_path), result.x])\n",
    "\n",
    "plt.plot(solution_path[0, :], solution_path[1, :], c='red')\n",
    "\n",
    "plt.scatter(solution_path[0, 0], solution_path[1, 0], c='blue')  # start point\n",
    "plt.scatter(solution_path[0, -1], solution_path[1, -1], c='blue')  # end point\n",
    "result"
   ]
  },
  {
   "cell_type": "markdown",
   "id": "violent-cleanup",
   "metadata": {},
   "source": [
    "Quite reasonable. Again we have the problem of many function evaluations, but it does not take too many iterations to converge to the minimum at approximately $(-0.34, 0)$.\n",
    "\n",
    "## Conclusion\n",
    "\n",
    "So, exact line search with steepest descent works acceptably on well-conditioned problems in two varaibles but requires a high number of function evaluations. We have some obvious questions to answer now:\n",
    "\n",
    "1. How well does steepest descent + exact line search work on well conditioned problems with many variables?\n",
    "2. How does steepest descent + inexact line search compare in problems which are:\n",
    " 1. well-conditioned, low dimensional?\n",
    " 2. ill-conditioned, low dimensional?\n",
    " 3. well-conditioned, high dimensional?\n",
    "\n",
    "We will be looking into these questions further in future."
   ]
  }
 ],
 "metadata": {
  "kernelspec": {
   "display_name": "Python 3",
   "language": "python",
   "name": "python3"
  },
  "language_info": {
   "codemirror_mode": {
    "name": "ipython",
    "version": 3
   },
   "file_extension": ".py",
   "mimetype": "text/x-python",
   "name": "python",
   "nbconvert_exporter": "python",
   "pygments_lexer": "ipython3",
   "version": "3.8.7"
  }
 },
 "nbformat": 4,
 "nbformat_minor": 5
}
