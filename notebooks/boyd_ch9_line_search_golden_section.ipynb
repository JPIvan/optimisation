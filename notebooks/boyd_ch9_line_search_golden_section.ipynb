{
 "cells": [
  {
   "cell_type": "markdown",
   "metadata": {},
   "source": [
    "# Boyd and Vandenberghe - Convex Optimisation\n",
    "## Chapter 9 - Unconstrained Optimisation\n",
    "\n",
    "### Golden Section Search\n",
    "\n",
    "In this notebook I discuss the implementation of golden section search as covered [here](https://jpivan.github.io/boyd-convex-optimisation/ch9/).\n",
    "\n",
    "As of this moment this function has only been tested a little, I will be covering writing tests later. If any problems are revealed in testing they will be noted here and this notebook updated."
   ]
  },
  {
   "cell_type": "code",
   "execution_count": 1,
   "metadata": {},
   "outputs": [],
   "source": [
    "%%capture\n",
    "# just some setup, don't worry too much\n",
    "from os import getcwd\n",
    "while getcwd().split('\\\\')[-1] != 'optimisation':\n",
    "    %cd ..\n",
    "\n",
    "%load_ext autoreload\n",
    "%autoreload 2\n",
    "\n",
    "# we need numpy for the functions we will copy from the optimisation repo\n",
    "\n",
    "import numpy as np"
   ]
  },
  {
   "cell_type": "markdown",
   "metadata": {},
   "source": [
    "So, let's load the function from the source file and take a look at it. (It's loaded in the cell below.)\n",
    "\n",
    "The first thing to mention is a 'design' choice I made. The function for golden section seach and backtracking search should expose a similar interface. That is, a function designed to call one of them should also work when calling the other. For now I have decided that the functions should return a dictionary, containing `'t'`, the step size, and `'x'`, the value of $x + t\\Delta x$. Offloading this responsibility to the line search functions means that a function which uses them does not need to care whether it is calling a line search method that calculates an optimum $x^*$ (like golden section search) or a recommended step size $t$ (like backtracking) since all line search functions will by design return both.\n",
    "\n",
    "We then define the constants we will be using in each iteration of the search: $\\varphi^{-1}$ and $\\varphi^{-2}$. We also initialise a counter `nfev` which will track how many function evaluations the line search performs. This is a very important statistic in many cases. In order to actually keep track of the function evaluations we wrap `func` inside another function `_f`, which increments this counter before returning `func(x)`. I don't know if this is particularly \"pythonic\", but it seems like a good way to do it. It creates an extra stack frame, but if that kind of detail is going to make or break your solution I doubt python is the right tool for the job.\n",
    "\n",
    "We are now at `_gs`, which is where the actual line search will occur. Why should we create this \"hidden\" function instead of just making `goldensection` the recursive line search function?\n",
    "\n",
    "Well, if a function wishes to utilise backtracking line search it should provide a starting point and a search direction. Golden section search is not derived in the same way! Golden section search requires an interval containing a minimum. If we wish the two functions to be interchangable we must address this disparity. Furthermore `_gs` must be able to take a whole list of arguments, $x_2$, $x_3$, $fx_2$, $fx_3$ which a caller is unlikely to be able to provide anyway. So, we wrap up `_gs` and hide the details from the caller so that it is more easliy interchangeable with a backtracking line search function.\n",
    "\n",
    "If you follow the pseudocode we wrote earlier you will see that `_gs` is defined exactly as we discussed with one small exception:\n",
    "\n",
    "```if np.linalg.norm(h) <= precision: return (x1 + x4) / 2```\n",
    "\n",
    "Why take the norm of `h` instead of just using `h` directly? Although line search occurs in one dimension, we are usually interested in $x \\in \\mathbb{R}^n$, so we need to be a little cognisant of any points in our implementation where the fact that $x$ may be a numpy array may be relevant.\n",
    "\n",
    "The last few lines bracket the minimum (very lazily). This is enclosed in a `for`-`else` loop that will raise an error if we fail to bracket the minimum within a reasonable time. We then call `_gs` to find the minimum. When we return our result the line `'t': np.average((xopt - x) / dx)` is a bit of a hack. $(x^*-x) / \\Delta x$ should in principle be exactly $t\\mathbf{1}$, but I decided to take an average just in case of some precision loss on one of the entries. This may prove to be a bad idea. We will find out in testing!"
   ]
  },
  {
   "cell_type": "code",
   "execution_count": 2,
   "metadata": {},
   "outputs": [],
   "source": [
    "# %load -s goldensection src/line_search.py\n",
    "def goldensection(func, x, dx, precision=1e-6):\n",
    "    \"\"\" Golden-section search. Assumes minimum is in the direction dx,\n",
    "    starting at x.\n",
    "\n",
    "    Args:\n",
    "        func: function being minimised\n",
    "        x: start point\n",
    "        dx: search direction\n",
    "        precision: uncertainty permitted in result\n",
    "\n",
    "    Returns:\n",
    "        't': argmin_s f(x + s*dx)\n",
    "        'x': optimal x found by golden section search\n",
    "        some other metadata\n",
    "    \"\"\"\n",
    "    iphi = (5**0.5 - 1 )/ 2  # 1/phi\n",
    "    iphi2 = (3 - 5**0.5) / 2  # 1/phi^2\n",
    "    nfev = 0\n",
    "\n",
    "    def _f(x):\n",
    "        nonlocal nfev\n",
    "        nfev += 1\n",
    "        return func(x)\n",
    "\n",
    "    def _gs(x1, x4, h=None, x2=None, x3=None, fx2=None, fx3=None):\n",
    "        # We are going to divide the search space into three sections with\n",
    "        # boundaries (x1, x2, x3, x4) and perform golden section search.\n",
    "        # Function values are saved between iterations. \n",
    "        if h is None: h = x4 - x1\n",
    "        if np.linalg.norm(h) <= precision: return (x1 + x4) / 2\n",
    "        if x2 is None: x2 = x1 + iphi2*h\n",
    "        if x3 is None: x3 = x1 + iphi*h\n",
    "        if fx2 is None: fx2 = _f(x2)\n",
    "        if fx3 is None: fx3 = _f(x3)\n",
    "\n",
    "        if fx2 < fx3:\n",
    "            return _gs(x1, x3, h=h*iphi, x3=x2, fx3=fx2)\n",
    "        else:\n",
    "            return _gs(x2, x4, h=h*iphi, x2=x3, fx2=fx3)\n",
    "\n",
    "    # first we need to bracket the minimum\n",
    "    t = 1\n",
    "    for _ in range(64):\n",
    "        if _f(x + t*dx) > _f(x):\n",
    "            break\n",
    "        t *= 2\n",
    "    else:\n",
    "        raise RuntimeError(\n",
    "            \"Bracketing minimum failed. \"\n",
    "            \"Check if func is convex, start point, and search direction.\"\n",
    "        )\n",
    "    # minimum is now definitely between f(x + t*dx) and f(x)\n",
    "    # do golden section search\n",
    "    xopt = _gs(x, x + t*dx)  # golden section actually finds the optimal x\n",
    "    \n",
    "    return {\n",
    "        'x': xopt,\n",
    "        't': np.average((xopt - x) / dx),  # x* = x + t*dx\n",
    "        'nfev': nfev,\n",
    "    }\n"
   ]
  },
  {
   "cell_type": "markdown",
   "metadata": {},
   "source": [
    "In creating this function we have used several tools that those new to python or programming in general might not be familiar, or comfortable, with.\n",
    "\n",
    "In order of appearance we have:\n",
    "- the `nonlocal` keyword\n",
    "- a `for`-`else` loop\n",
    "- a call to a recursive function\n",
    "\n",
    "### The `nonlocal` Keyword\n",
    "\n",
    "Beginning with the `nonlocal` keyword, in the following block the identifier `var` is in the global scope in this notebook. All functions at all levels can 'see' (access) the object (in this case a `list`) that `var` refers to (after it has been declared, the functions preceding it cannot access it before it exists!)."
   ]
  },
  {
   "cell_type": "code",
   "execution_count": 3,
   "metadata": {},
   "outputs": [],
   "source": [
    "var = [1, 2, 3]\n",
    "\n",
    "def print_var():\n",
    "    print(var)\n",
    "\n",
    "def modify_var():\n",
    "    var[2] += var[2]"
   ]
  },
  {
   "cell_type": "markdown",
   "metadata": {},
   "source": [
    "This is important, especially for things like lists which are *mutable* (compare *immutable*), that is, which can be changed."
   ]
  },
  {
   "cell_type": "code",
   "execution_count": 4,
   "metadata": {},
   "outputs": [],
   "source": [
    "print(var)\n",
    "print_var()\n",
    "\n",
    "modify_var()\n",
    "\n",
    "print(var)\n",
    "print_var()"
   ]
  },
  {
   "cell_type": "markdown",
   "metadata": {},
   "source": [
    "Notice that the global `var` is altered when `modify_var` is called."
   ]
  },
  {
   "cell_type": "code",
   "execution_count": 5,
   "metadata": {},
   "outputs": [],
   "source": [
    "def i_make_my_own_var():\n",
    "    var = \"This is not your global var, but my local var.\"\n",
    "    print(var)\n",
    "\n",
    "i_make_my_own_var()\n",
    "print(var)\n",
    "modify_var()\n",
    "print_var()"
   ]
  },
  {
   "cell_type": "markdown",
   "metadata": {},
   "source": [
    "Notice that `i_make_my_own_var`, well, makes its own local copy of `var` that is distinct from the global `var`, but it does not *globally* overwrite it. However, any functions defined in this scope can no longer directly acess the global `var`. See below, where `i_access_local_var` does not print the list in the global `var`, likewise we can modify the local copy of `var` as you might expect."
   ]
  },
  {
   "cell_type": "code",
   "execution_count": 6,
   "metadata": {},
   "outputs": [],
   "source": [
    "def outer_function():\n",
    "    var = [\"local\", \"var\"]\n",
    "    print(var)\n",
    "\n",
    "    def i_access_local_var():\n",
    "        print(var)\n",
    "\n",
    "    def i_modify_local_var():\n",
    "        var[0] = \"modified local\"\n",
    "        print(var)\n",
    "\n",
    "    i_access_local_var()\n",
    "    i_modify_local_var()\n",
    "\n",
    "outer_function()\n",
    "print(var)"
   ]
  },
  {
   "cell_type": "markdown",
   "metadata": {},
   "source": [
    "So why does this not work?"
   ]
  },
  {
   "cell_type": "code",
   "execution_count": 7,
   "metadata": {},
   "outputs": [
    {
     "name": "stdout",
     "output_type": "stream",
     "text": [
      "['local', 'var']\n"
     ]
    },
    {
     "ename": "UnboundLocalError",
     "evalue": "local variable 'var' referenced before assignment",
     "output_type": "error",
     "traceback": [
      "\u001b[1;31m---------------------------------------------------------------------------\u001b[0m",
      "\u001b[1;31mUnboundLocalError\u001b[0m                         Traceback (most recent call last)",
      "\u001b[1;32m<ipython-input-7-caa93629d37a>\u001b[0m in \u001b[0;36m<module>\u001b[1;34m\u001b[0m\n\u001b[0;32m      9\u001b[0m     \u001b[0mi_fail\u001b[0m\u001b[1;33m(\u001b[0m\u001b[1;33m)\u001b[0m\u001b[1;33m\u001b[0m\u001b[1;33m\u001b[0m\u001b[0m\n\u001b[0;32m     10\u001b[0m \u001b[1;33m\u001b[0m\u001b[0m\n\u001b[1;32m---> 11\u001b[1;33m \u001b[0mouter_function\u001b[0m\u001b[1;33m(\u001b[0m\u001b[1;33m)\u001b[0m\u001b[1;33m\u001b[0m\u001b[1;33m\u001b[0m\u001b[0m\n\u001b[0m",
      "\u001b[1;32m<ipython-input-7-caa93629d37a>\u001b[0m in \u001b[0;36mouter_function\u001b[1;34m()\u001b[0m\n\u001b[0;32m      7\u001b[0m         \u001b[0mprint\u001b[0m\u001b[1;33m(\u001b[0m\u001b[0mvar\u001b[0m\u001b[1;33m)\u001b[0m\u001b[1;33m\u001b[0m\u001b[1;33m\u001b[0m\u001b[0m\n\u001b[0;32m      8\u001b[0m \u001b[1;33m\u001b[0m\u001b[0m\n\u001b[1;32m----> 9\u001b[1;33m     \u001b[0mi_fail\u001b[0m\u001b[1;33m(\u001b[0m\u001b[1;33m)\u001b[0m\u001b[1;33m\u001b[0m\u001b[1;33m\u001b[0m\u001b[0m\n\u001b[0m\u001b[0;32m     10\u001b[0m \u001b[1;33m\u001b[0m\u001b[0m\n\u001b[0;32m     11\u001b[0m \u001b[0mouter_function\u001b[0m\u001b[1;33m(\u001b[0m\u001b[1;33m)\u001b[0m\u001b[1;33m\u001b[0m\u001b[1;33m\u001b[0m\u001b[0m\n",
      "\u001b[1;32m<ipython-input-7-caa93629d37a>\u001b[0m in \u001b[0;36mi_fail\u001b[1;34m()\u001b[0m\n\u001b[0;32m      4\u001b[0m \u001b[1;33m\u001b[0m\u001b[0m\n\u001b[0;32m      5\u001b[0m     \u001b[1;32mdef\u001b[0m \u001b[0mi_fail\u001b[0m\u001b[1;33m(\u001b[0m\u001b[1;33m)\u001b[0m\u001b[1;33m:\u001b[0m\u001b[1;33m\u001b[0m\u001b[1;33m\u001b[0m\u001b[0m\n\u001b[1;32m----> 6\u001b[1;33m         \u001b[0mvar\u001b[0m \u001b[1;33m=\u001b[0m \u001b[0mvar\u001b[0m\u001b[1;33m*\u001b[0m\u001b[1;36m2\u001b[0m\u001b[1;33m\u001b[0m\u001b[1;33m\u001b[0m\u001b[0m\n\u001b[0m\u001b[0;32m      7\u001b[0m         \u001b[0mprint\u001b[0m\u001b[1;33m(\u001b[0m\u001b[0mvar\u001b[0m\u001b[1;33m)\u001b[0m\u001b[1;33m\u001b[0m\u001b[1;33m\u001b[0m\u001b[0m\n\u001b[0;32m      8\u001b[0m \u001b[1;33m\u001b[0m\u001b[0m\n",
      "\u001b[1;31mUnboundLocalError\u001b[0m: local variable 'var' referenced before assignment"
     ]
    }
   ],
   "source": [
    "def outer_function():\n",
    "    var = [\"local\", \"var\"]\n",
    "    print(var)\n",
    "\n",
    "    def i_fail():\n",
    "        var = var*2\n",
    "        print(var)\n",
    "\n",
    "    i_fail()\n",
    "\n",
    "outer_function()\n"
   ]
  },
  {
   "cell_type": "markdown",
   "metadata": {},
   "source": [
    "In the function `i_fail` we create a local identifier `var` which *blocks us from referring to the `var` in the enclosing scope using the same identifier*. So in `var = var*2` we are referring to `var` from within `i_fail` on the right-hand side of the assignment (=) as well. Since the local identifier `var` in `i_fail` is not bound to anything yet we cannot evaluate `var*2` and the error results."
   ]
  },
  {
   "cell_type": "code",
   "execution_count": 8,
   "metadata": {},
   "outputs": [
    {
     "name": "stdout",
     "output_type": "stream",
     "text": [
      "['local', 'var']\n",
      "['local', 'var', 'modified']\n",
      "['local', 'var', 'modified']\n",
      "[1, 2, 12, 'modified the global!']\n"
     ]
    }
   ],
   "source": [
    "def outer_function():\n",
    "    var = [\"local\", \"var\"]\n",
    "    print(var)  # local var in outer_function\n",
    "\n",
    "    def i_extend_the_list_in_outer_function():\n",
    "        nonlocal var\n",
    "        var = var + ['modified']\n",
    "        print(var)\n",
    "\n",
    "    def i_extend_the_list_in_global_scope():\n",
    "        global var\n",
    "        var = var + ['modified the global!']\n",
    "\n",
    "    i_extend_the_list_in_outer_function()  # modifies and prints local var in outer_function\n",
    "    i_extend_the_list_in_global_scope()  # modifies global var\n",
    "    print(var)  # prints local var again to show that i_extend_the_list_in_global_scope has left it untouched\n",
    "\n",
    "outer_function()\n",
    "print(var)"
   ]
  },
  {
   "cell_type": "markdown",
   "metadata": {},
   "source": [
    "The `nonlocal` and `global` keywords can be used to cause listed identifiers (`nonlocal var1, var2` is valid) to refer to previously bound identifiers in the enclosing scope, or in the global scope. To my knowledge there is no non-hacky way to refer to variables in an intermediate scope. This is probably a good thing, since having a variable with the same identifier in multiple scopes can already lead to confusion and bugs if abused. If you find yourself needing a structure like the one below, and require `c` to refer to `var` as defined in `a` you probably want to revise your method rather than looking for a hacky way to get around this \"limitation\"."
   ]
  },
  {
   "cell_type": "code",
   "execution_count": 9,
   "metadata": {},
   "outputs": [
    {
     "name": "stdout",
     "output_type": "stream",
     "text": [
      "[\"b's var\", \"c's addition\"]\n"
     ]
    }
   ],
   "source": [
    "def a():\n",
    "    var = [\"a's var\"]\n",
    "    def b():\n",
    "        var = [\"b's var\"]\n",
    "        def c():\n",
    "            nonlocal var\n",
    "            var += [\"c's addition\"]\n",
    "            print(var)\n",
    "        c()\n",
    "    b()\n",
    "a()"
   ]
  },
  {
   "cell_type": "markdown",
   "metadata": {},
   "source": [
    "### `for`-`else` Loops\n",
    "\n",
    "`for`-`else` loops probably have less potential for confusion than scoping rules. A `for`-`else` loop executes the `else` block if the loop complete without breaking. In the block below the first loop terminates without encountering a `break` statement. (`_` is a common name used for throwaway variables in Python.) The second loop terminates when `i == 5` triggers the `break`, and so the `else` block does not execute."
   ]
  },
  {
   "cell_type": "code",
   "execution_count": 10,
   "metadata": {},
   "outputs": [
    {
     "name": "stdout",
     "output_type": "stream",
     "text": [
      "Loop 1 terminated nomally.\n"
     ]
    }
   ],
   "source": [
    "for _ in range(10):\n",
    "    pass # do nothing\n",
    "else:\n",
    "    print(\"Loop 1 terminated nomally.\")\n",
    "\n",
    "for i in range(10):\n",
    "    if i == 5: break\n",
    "else:\n",
    "    print(\"Loop 2 terminated nomally.\")"
   ]
  },
  {
   "cell_type": "markdown",
   "metadata": {},
   "source": [
    "### Recursion\n",
    "\n",
    "I remember the discomfort of learning to use recursion and the endless errors, stack overflows, and memory leaks that came with it. I have friends and colleagues that have been programming for a few years and still would rather die on the hill of multiply-nested loops several times before even considering a recursive algorithm. To be clear they are not developers or software engineers, so this is by no means unforgivable.\n",
    "\n",
    "By all means, it is possible to write a recursive algorithm for problems that are not well-suited to such a formulation and I suspect that some of the bad experiences of learning to use recursion might come from such examples where recursion created unnecessary complexity. That said, some structures and problems are \"inherently\" recursive and recognising them as such can often simplify them, rather than complicate them.\n",
    "\n",
    "If you find the lines `return _gs(x1, x3, h=h*iphi, x3=x2, fx3=fx2)` and `return _gs(x2, x4, h=h*iphi, x2=x3, fx2=fx3)` intimidating because the function `_gs` calls itself in its return statement then perhaps a little time spent learning about recursion will help.\n",
    "\n",
    "I may create some notes on the topic at a later date and they will be linked here once they exist. In the meantime I think this [medium article](https://medium.com/analytics-vidhya/brief-introduction-to-recursion-8ea409b5f1bf) is a good introductory read."
   ]
  }
 ],
 "metadata": {
  "kernelspec": {
   "display_name": "Python 3",
   "language": "python",
   "name": "python3"
  },
  "language_info": {
   "codemirror_mode": {
    "name": "ipython",
    "version": 3
   },
   "file_extension": ".py",
   "mimetype": "text/x-python",
   "name": "python",
   "nbconvert_exporter": "python",
   "pygments_lexer": "ipython3",
   "version": "3.8.6"
  }
 },
 "nbformat": 4,
 "nbformat_minor": 4
}
